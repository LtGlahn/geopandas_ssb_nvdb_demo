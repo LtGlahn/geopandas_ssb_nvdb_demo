{
 "cells": [
  {
   "cell_type": "markdown",
   "metadata": {},
   "source": [
    "# Bruk av geopandas med data fra NVDB og SSB\n",
    "\n",
    "Demo av hvordan geopandas kan brukes med data fra [Nasjonal vegdatabank](https://www.vegvesen.no/fag/teknologi/Nasjonal+vegdatabank) (NVDB) og [Statistisk Sentralbyrå](http://www.ssb.no/natur-og-miljo/geodata) (SSB). \n",
    "\n",
    "Vi ønsker å finne hvilke turistveger som går gjennom hvilke tettsteder - og hvilke trafikkulykker som er registrert der. \n",
    "\n",
    "Gangen er som følger: \n",
    "1. Last ned data over tettsteder fra [SSB](http://www.ssb.no/natur-og-miljo/geodata\n",
    "1. Last ned turistveger fra [NVDB api](https://www.vegvesen.no/nvdb/apidokumentasjon/)\n",
    "1. Finn snittet av turistveger og tettsteder (hvilke turistveger som går gjennom hvilke tettsteder)\n",
    "1. Finn trafikkulykkene på turistvegene som går gjennom tettstedene. \n",
    "    1. Finn BoundingBox for hvert av tettstedene som har en turistveg gjennom seg.  \n",
    "    1. Hent trafikkulykker innenfor BBox. \n",
    "    1. Finn trafikkulykkene som ligger på turistvegens senterlinje\n",
    "        1. Alternativt finn trafikkulykkene innenfor radius fra turistvegen. \n",
    "1. Lag fine plott og sånn\n"
   ]
  },
  {
   "cell_type": "markdown",
   "metadata": {},
   "source": [
    "# Kom i gang  \n",
    "\n",
    "## Linux med anaconda\n",
    "\n",
    "\n",
    "Last ned siste [Anaconda versjon](https://www.anaconda.com/download/#linux) for python 3.6 eller høyere, installer med ```bash Anaconda*.sh```- [Mer detaljert oppskrift](https://www.digitalocean.com/community/tutorials/how-to-install-the-anaconda-python-distribution-on-ubuntu-16-04). \n",
    "\n",
    "* Geopandas: ```conda install -c conda-forge geopandas``` [Dokumentasjon](http://geopandas.org/install.html#installing-geopandas)\n",
    "* **todo: Hent geojson-bibliotek\n",
    "\n",
    "## Linux uten anaconda\n",
    "\n",
    "Antagelsen her er at du har python3 installert, men at din standard pythoninstallasjon er python 2.7.\n",
    "\n",
    "* [Geopandas](http://geopandas.org/) ```pip3 install geopandas```\n",
    "* [Geojson](https://pypi.python.org/pypi/geojson) ```pip3 install geojson```\n",
    "\n",
    "\n",
    "\n",
    "## Windows \n",
    "\n",
    "Last ned og installer siste [Anaconda versjon](https://www.anaconda.com/download) for python 3.6 eller høyere. Kjør installasjonen. \n",
    "\n",
    "**Todo: Skriv om bruk av windows-oppfinnelsen _anaconda prompt_ **"
   ]
  },
  {
   "cell_type": "markdown",
   "metadata": {},
   "source": [
    "# Last ned data fra SSB\n",
    "\n",
    "Dette steget kan også gjøres manuelt. Direkte lenke for nedlasting av 2016-datasett er http://www.ssb.no/natur-og-miljo/_attachment/286736?_ts=158d3354ee0 \n",
    "\n",
    "*NB! Det vil ikke overraske meg om lenkeråte gjør at du uansett må inn på SSB og finne nedlastingslenker* \n",
    "\n",
    "### Hent SSB-data manuelt \n",
    "\n",
    "1. Gå inn på http://www.ssb.no/natur-og-miljo/geodata#Nedlasting_av_datasett_med_dynamiske_avgrensinger . \n",
    "1. Klikk på *Nedlasting av kart over tettsteder*. \n",
    "1. Klikk på det året du vil laste ned for. \n",
    "    1. Nedlasting skal starte automagisk... hvis ikke kan du prøve en annen nettleser, evt kopiere lenken og bruke verktøy som curl eller wget. \n",
    "1. Pakk ut zip-arkivet og legg mappen ```Tettsted2016``` sammen med øvrige filer (rotnivå i repos'et). Dvs at stien til shapefilen skal være ```Tettsted2016/Tettsted2016.shp```\n",
    "\n",
    "\n",
    "\n",
    "\n",
    "\n"
   ]
  },
  {
   "cell_type": "code",
   "execution_count": 1,
   "metadata": {
    "collapsed": false
   },
   "outputs": [],
   "source": [
    "## Last ned SSB-data\n",
    "# Se https://stackoverflow.com/a/14260592 , det om python 3+\n",
    "import requests\n",
    "import zipfile\n",
    "import io\n",
    "import os\n",
    "\n",
    "url = 'http://www.ssb.no/natur-og-miljo/_attachment/286736?_ts=158d3354ee0'\n",
    "\n",
    "# Laster kun en gang: \n",
    "if not os.path.exists('Tettsted2016/Tettsted2016.shp'):\n",
    "    r = requests.get(url)\n",
    "    if r.ok: \n",
    "        z = zipfile.ZipFile(io.BytesIO(r.content))\n",
    "        z.extractall()\n",
    "    else: \n",
    "        print( \"Nedlasting feiler:\", r.status_code, r.reason )\n",
    "        "
   ]
  },
  {
   "cell_type": "markdown",
   "metadata": {},
   "source": [
    "# Importer de bibliotekene som trengs\n"
   ]
  },
  {
   "cell_type": "code",
   "execution_count": 2,
   "metadata": {
    "collapsed": false
   },
   "outputs": [],
   "source": [
    "import geopandas as gpd\n",
    "import pandas as pd\n",
    "import nvdbapi      # Fra https://github.com/LtGlahn/nvdbapi-V2\n",
    "import nvdb2geojson # Fra https://github.com/LtGlahn/nvdbapi-V2"
   ]
  },
  {
   "cell_type": "markdown",
   "metadata": {},
   "source": [
    "# Les data"
   ]
  },
  {
   "cell_type": "code",
   "execution_count": 3,
   "metadata": {
    "collapsed": false
   },
   "outputs": [],
   "source": [
    "tettsted = gpd.read_file( 'Tettsted2016/Tettsted2016.shp')\n",
    "turistveger = nvdbapi.nvdbFagdata(777)\n",
    "turistveger_geojson = nvdb2geojson.fagdata2geojson( turistveger)"
   ]
  },
  {
   "cell_type": "code",
   "execution_count": 4,
   "metadata": {
    "collapsed": false
   },
   "outputs": [],
   "source": [
    "turist2 = gpd.GeoDataFrame.from_features( turistveger_geojson['features'])"
   ]
  },
  {
   "cell_type": "markdown",
   "metadata": {},
   "source": [
    "# Finn turistveger i tettsteder \n",
    "\n",
    "http://geopandas.org/mergingdata.html , spatial joins. \n",
    "\n",
    "sjoin"
   ]
  },
  {
   "cell_type": "code",
   "execution_count": 5,
   "metadata": {
    "collapsed": false
   },
   "outputs": [],
   "source": [
    "tettsted.crs = {'init': 'epsg:25833'}\n",
    "turist2.crs = {'init': 'epsg:25833'}\n",
    "\n",
    "turist_i_tettsted = gpd.sjoin( turist2, tettsted, how='inner', op='intersects')\n",
    "tettsted_m_turist = gpd.sjoin( tettsted, turist2, how='inner', op='intersects')\n"
   ]
  },
  {
   "cell_type": "code",
   "execution_count": 6,
   "metadata": {
    "collapsed": false
   },
   "outputs": [
    {
     "name": "stdout",
     "output_type": "stream",
     "text": [
      "Antall turistveger 527\n",
      "Antall tettsteder 990\n",
      "Tettsteder med turistveger 120\n",
      "Turistveger som går gjennom tettsteder 120\n"
     ]
    }
   ],
   "source": [
    "print( \"Antall turistveger\", len( turist2))\n",
    "print( \"Antall tettsteder\", len(tettsted))\n",
    "print( \"Tettsteder med turistveger\", len(tettsted_m_turist))\n",
    "print( \"Turistveger som går gjennom tettsteder\", len(turist_i_tettsted))"
   ]
  },
  {
   "cell_type": "code",
   "execution_count": 7,
   "metadata": {
    "collapsed": false
   },
   "outputs": [
    {
     "data": {
      "text/html": [
       "<div style=\"max-height:1000px;max-width:1500px;overflow:auto;\">\n",
       "<table border=\"1\" class=\"dataframe\">\n",
       "  <thead>\n",
       "    <tr style=\"text-align: right;\">\n",
       "      <th></th>\n",
       "      <th>Tot_Bef</th>\n",
       "      <th>TETTNR</th>\n",
       "      <th>Tettstedsn</th>\n",
       "      <th>Areal_km2</th>\n",
       "      <th>Beff_tett</th>\n",
       "      <th>geometry</th>\n",
       "      <th>index_right</th>\n",
       "      <th>Link turistveg</th>\n",
       "      <th>Navn</th>\n",
       "      <th>Status</th>\n",
       "      <th>...</th>\n",
       "      <th>kortform</th>\n",
       "      <th>metadata</th>\n",
       "      <th>nummer</th>\n",
       "      <th>region</th>\n",
       "      <th>status</th>\n",
       "      <th>stedfesting</th>\n",
       "      <th>strekningslengde</th>\n",
       "      <th>til_meter</th>\n",
       "      <th>vegavdeling</th>\n",
       "      <th>vegsegment nr</th>\n",
       "    </tr>\n",
       "  </thead>\n",
       "  <tbody>\n",
       "    <tr>\n",
       "      <th>76 </th>\n",
       "      <td>  261</td>\n",
       "      <td> 4578</td>\n",
       "      <td>   Nærland</td>\n",
       "      <td> 0.257395</td>\n",
       "      <td> 1014.007332</td>\n",
       "      <td> (POLYGON ((-46009.19449999917 6542647.40069999...</td>\n",
       "      <td>  92</td>\n",
       "      <td>  http://www.nasjonaleturistveger.no/no/jaeren</td>\n",
       "      <td>   Jæren</td>\n",
       "      <td> Nasjonal turistveg</td>\n",
       "      <td>...</td>\n",
       "      <td> 1100 Fv507 hp1 m14891-17983</td>\n",
       "      <td> {'versjon': 4, 'type': {'id': 777, 'navn': 'Tu...</td>\n",
       "      <td> 507</td>\n",
       "      <td> 3</td>\n",
       "      <td> V</td>\n",
       "      <td> {'retning': 'MOT', 'kortform': '0.614770285190...</td>\n",
       "      <td> 3092</td>\n",
       "      <td> 17983</td>\n",
       "      <td> 11</td>\n",
       "      <td>  2</td>\n",
       "    </tr>\n",
       "    <tr>\n",
       "      <th>138</th>\n",
       "      <td> 7003</td>\n",
       "      <td> 4631</td>\n",
       "      <td> Jørpeland</td>\n",
       "      <td> 4.135783</td>\n",
       "      <td> 1693.270709</td>\n",
       "      <td> (POLYGON ((-14439.73290000072 6578247.41059999...</td>\n",
       "      <td> 160</td>\n",
       "      <td> http://www.nasjonaleturistveger.no/no/ryfylke</td>\n",
       "      <td> Ryfylke</td>\n",
       "      <td> Nasjonal turistveg</td>\n",
       "      <td>...</td>\n",
       "      <td>  1100 Rv13 hp6 m10097-15567</td>\n",
       "      <td> {'versjon': 15, 'type': {'id': 777, 'navn': 'T...</td>\n",
       "      <td>  13</td>\n",
       "      <td> 3</td>\n",
       "      <td> V</td>\n",
       "      <td> {'retning': 'MED', 'kortform': '0.0-0.57643303...</td>\n",
       "      <td> 5470</td>\n",
       "      <td> 15567</td>\n",
       "      <td> 11</td>\n",
       "      <td> 61</td>\n",
       "    </tr>\n",
       "    <tr>\n",
       "      <th>138</th>\n",
       "      <td> 7003</td>\n",
       "      <td> 4631</td>\n",
       "      <td> Jørpeland</td>\n",
       "      <td> 4.135783</td>\n",
       "      <td> 1693.270709</td>\n",
       "      <td> (POLYGON ((-14439.73290000072 6578247.41059999...</td>\n",
       "      <td> 161</td>\n",
       "      <td> http://www.nasjonaleturistveger.no/no/ryfylke</td>\n",
       "      <td> Ryfylke</td>\n",
       "      <td> Nasjonal turistveg</td>\n",
       "      <td>...</td>\n",
       "      <td>  1100 Rv13 hp6 m15883-15893</td>\n",
       "      <td> {'versjon': 15, 'type': {'id': 777, 'navn': 'T...</td>\n",
       "      <td>  13</td>\n",
       "      <td> 3</td>\n",
       "      <td> V</td>\n",
       "      <td> {'retning': 'MED', 'kortform': '0.885852909781...</td>\n",
       "      <td>   10</td>\n",
       "      <td> 15893</td>\n",
       "      <td> 11</td>\n",
       "      <td> 62</td>\n",
       "    </tr>\n",
       "  </tbody>\n",
       "</table>\n",
       "<p>3 rows × 27 columns</p>\n",
       "</div>"
      ],
      "text/plain": [
       "     Tot_Bef TETTNR Tettstedsn  Areal_km2    Beff_tett  \\\n",
       "76       261   4578    Nærland   0.257395  1014.007332   \n",
       "138     7003   4631  Jørpeland   4.135783  1693.270709   \n",
       "138     7003   4631  Jørpeland   4.135783  1693.270709   \n",
       "\n",
       "                                              geometry  index_right  \\\n",
       "76   (POLYGON ((-46009.19449999917 6542647.40069999...           92   \n",
       "138  (POLYGON ((-14439.73290000072 6578247.41059999...          160   \n",
       "138  (POLYGON ((-14439.73290000072 6578247.41059999...          161   \n",
       "\n",
       "                                    Link turistveg     Navn  \\\n",
       "76    http://www.nasjonaleturistveger.no/no/jaeren    Jæren   \n",
       "138  http://www.nasjonaleturistveger.no/no/ryfylke  Ryfylke   \n",
       "138  http://www.nasjonaleturistveger.no/no/ryfylke  Ryfylke   \n",
       "\n",
       "                 Status         ...                             kortform  \\\n",
       "76   Nasjonal turistveg         ...          1100 Fv507 hp1 m14891-17983   \n",
       "138  Nasjonal turistveg         ...           1100 Rv13 hp6 m10097-15567   \n",
       "138  Nasjonal turistveg         ...           1100 Rv13 hp6 m15883-15893   \n",
       "\n",
       "                                              metadata  nummer  region  \\\n",
       "76   {'versjon': 4, 'type': {'id': 777, 'navn': 'Tu...     507       3   \n",
       "138  {'versjon': 15, 'type': {'id': 777, 'navn': 'T...      13       3   \n",
       "138  {'versjon': 15, 'type': {'id': 777, 'navn': 'T...      13       3   \n",
       "\n",
       "     status                                        stedfesting  \\\n",
       "76        V  {'retning': 'MOT', 'kortform': '0.614770285190...   \n",
       "138       V  {'retning': 'MED', 'kortform': '0.0-0.57643303...   \n",
       "138       V  {'retning': 'MED', 'kortform': '0.885852909781...   \n",
       "\n",
       "     strekningslengde til_meter vegavdeling  vegsegment nr  \n",
       "76               3092     17983          11              2  \n",
       "138              5470     15567          11             61  \n",
       "138                10     15893          11             62  \n",
       "\n",
       "[3 rows x 27 columns]"
      ]
     },
     "execution_count": 7,
     "metadata": {},
     "output_type": "execute_result"
    }
   ],
   "source": [
    "tettsted_m_turist.head(3)\n"
   ]
  },
  {
   "cell_type": "code",
   "execution_count": 8,
   "metadata": {
    "collapsed": false
   },
   "outputs": [
    {
     "data": {
      "text/html": [
       "<div style=\"max-height:1000px;max-width:1500px;overflow:auto;\">\n",
       "<table border=\"1\" class=\"dataframe\">\n",
       "  <thead>\n",
       "    <tr style=\"text-align: right;\">\n",
       "      <th></th>\n",
       "      <th>Link turistveg</th>\n",
       "      <th>Navn</th>\n",
       "      <th>Status</th>\n",
       "      <th>antall vegsegmenter</th>\n",
       "      <th>fra_meter</th>\n",
       "      <th>fylke</th>\n",
       "      <th>geometry</th>\n",
       "      <th>hp</th>\n",
       "      <th>id</th>\n",
       "      <th>kategori</th>\n",
       "      <th>...</th>\n",
       "      <th>strekningslengde</th>\n",
       "      <th>til_meter</th>\n",
       "      <th>vegavdeling</th>\n",
       "      <th>vegsegment nr</th>\n",
       "      <th>index_right</th>\n",
       "      <th>Tot_Bef</th>\n",
       "      <th>TETTNR</th>\n",
       "      <th>Tettstedsn</th>\n",
       "      <th>Areal_km2</th>\n",
       "      <th>Beff_tett</th>\n",
       "    </tr>\n",
       "  </thead>\n",
       "  <tbody>\n",
       "    <tr>\n",
       "      <th>11</th>\n",
       "      <td> http://www.nasjonaleturistveger.no/no/lofoten</td>\n",
       "      <td> Lofoten</td>\n",
       "      <td> Nasjonal turistveg</td>\n",
       "      <td> 40</td>\n",
       "      <td> 54</td>\n",
       "      <td> 18</td>\n",
       "      <td> LINESTRING Z (481851.5 7569211.71002 3.52, 481...</td>\n",
       "      <td> 25</td>\n",
       "      <td> 231728512</td>\n",
       "      <td> E</td>\n",
       "      <td>...</td>\n",
       "      <td> 4647</td>\n",
       "      <td> 4701</td>\n",
       "      <td> 21</td>\n",
       "      <td> 12</td>\n",
       "      <td> 865</td>\n",
       "      <td> 1794</td>\n",
       "      <td> 7812</td>\n",
       "      <td> Kabelvåg</td>\n",
       "      <td> 1.113858</td>\n",
       "      <td> 1610.617537</td>\n",
       "    </tr>\n",
       "    <tr>\n",
       "      <th>22</th>\n",
       "      <td> http://www.nasjonaleturistveger.no/no/lofoten</td>\n",
       "      <td> Lofoten</td>\n",
       "      <td> Nasjonal turistveg</td>\n",
       "      <td> 40</td>\n",
       "      <td>  0</td>\n",
       "      <td> 18</td>\n",
       "      <td> LINESTRING Z (478559.76025 7566856.00293 7.929...</td>\n",
       "      <td> 26</td>\n",
       "      <td> 231728512</td>\n",
       "      <td> E</td>\n",
       "      <td>...</td>\n",
       "      <td> 5083</td>\n",
       "      <td> 5083</td>\n",
       "      <td> 21</td>\n",
       "      <td> 23</td>\n",
       "      <td> 865</td>\n",
       "      <td> 1794</td>\n",
       "      <td> 7812</td>\n",
       "      <td> Kabelvåg</td>\n",
       "      <td> 1.113858</td>\n",
       "      <td> 1610.617537</td>\n",
       "    </tr>\n",
       "    <tr>\n",
       "      <th>11</th>\n",
       "      <td> http://www.nasjonaleturistveger.no/no/lofoten</td>\n",
       "      <td> Lofoten</td>\n",
       "      <td> Nasjonal turistveg</td>\n",
       "      <td> 40</td>\n",
       "      <td> 54</td>\n",
       "      <td> 18</td>\n",
       "      <td> LINESTRING Z (481851.5 7569211.71002 3.52, 481...</td>\n",
       "      <td> 25</td>\n",
       "      <td> 231728512</td>\n",
       "      <td> E</td>\n",
       "      <td>...</td>\n",
       "      <td> 4647</td>\n",
       "      <td> 4701</td>\n",
       "      <td> 21</td>\n",
       "      <td> 12</td>\n",
       "      <td> 866</td>\n",
       "      <td> 4598</td>\n",
       "      <td> 7814</td>\n",
       "      <td>  Svolvær</td>\n",
       "      <td> 2.377111</td>\n",
       "      <td> 1934.280603</td>\n",
       "    </tr>\n",
       "  </tbody>\n",
       "</table>\n",
       "<p>3 rows × 27 columns</p>\n",
       "</div>"
      ],
      "text/plain": [
       "                                   Link turistveg     Navn  \\\n",
       "11  http://www.nasjonaleturistveger.no/no/lofoten  Lofoten   \n",
       "22  http://www.nasjonaleturistveger.no/no/lofoten  Lofoten   \n",
       "11  http://www.nasjonaleturistveger.no/no/lofoten  Lofoten   \n",
       "\n",
       "                Status  antall vegsegmenter  fra_meter  fylke  \\\n",
       "11  Nasjonal turistveg                   40         54     18   \n",
       "22  Nasjonal turistveg                   40          0     18   \n",
       "11  Nasjonal turistveg                   40         54     18   \n",
       "\n",
       "                                             geometry  hp         id kategori  \\\n",
       "11  LINESTRING Z (481851.5 7569211.71002 3.52, 481...  25  231728512        E   \n",
       "22  LINESTRING Z (478559.76025 7566856.00293 7.929...  26  231728512        E   \n",
       "11  LINESTRING Z (481851.5 7569211.71002 3.52, 481...  25  231728512        E   \n",
       "\n",
       "     ...     strekningslengde til_meter vegavdeling  vegsegment nr  \\\n",
       "11   ...                 4647      4701          21             12   \n",
       "22   ...                 5083      5083          21             23   \n",
       "11   ...                 4647      4701          21             12   \n",
       "\n",
       "    index_right Tot_Bef TETTNR  Tettstedsn  Areal_km2    Beff_tett  \n",
       "11          865    1794   7812    Kabelvåg   1.113858  1610.617537  \n",
       "22          865    1794   7812    Kabelvåg   1.113858  1610.617537  \n",
       "11          866    4598   7814     Svolvær   2.377111  1934.280603  \n",
       "\n",
       "[3 rows x 27 columns]"
      ]
     },
     "execution_count": 8,
     "metadata": {},
     "output_type": "execute_result"
    }
   ],
   "source": [
    "turist_i_tettsted.head(3)"
   ]
  },
  {
   "cell_type": "markdown",
   "metadata": {
    "collapsed": false
   },
   "source": [
    "# Finner trafikkulykker på turistveger\n",
    "\n",
    "Bruker NVDB api's overlappfilter https://www.vegvesen.no/nvdb/apidokumentasjon/#/parameter/overlappfilter \n"
   ]
  },
  {
   "cell_type": "code",
   "execution_count": 14,
   "metadata": {
    "collapsed": false
   },
   "outputs": [
    {
     "name": "stdout",
     "output_type": "stream",
     "text": [
      "Antall ulykker på turistveger {'antall': 4075, 'strekningslengde': 0}\n"
     ]
    }
   ],
   "source": [
    "ulykker = nvdbapi.nvdbFagdata( 570)\n",
    "ulykker.addfilter_overlapp( '777'  )\n",
    "print( 'Antall ulykker på turistveger', ulykker.statistikk()) "
   ]
  },
  {
   "cell_type": "code",
   "execution_count": 16,
   "metadata": {
    "collapsed": false
   },
   "outputs": [
    {
     "data": {
      "text/html": [
       "<div style=\"max-height:1000px;max-width:1500px;overflow:auto;\">\n",
       "<table border=\"1\" class=\"dataframe\">\n",
       "  <thead>\n",
       "    <tr style=\"text-align: right;\">\n",
       "      <th></th>\n",
       "      <th>Alvorligste skadegrad</th>\n",
       "      <th>Antall alvorlig skadet</th>\n",
       "      <th>Antall drepte i ulykken</th>\n",
       "      <th>Antall enheter</th>\n",
       "      <th>Antall kjørefelt</th>\n",
       "      <th>Antall lettere skadet</th>\n",
       "      <th>Antall meget alvorlig skadet</th>\n",
       "      <th>Bebyggelse</th>\n",
       "      <th>Dekketype</th>\n",
       "      <th>Fartsgrense</th>\n",
       "      <th>...</th>\n",
       "      <th>kommune</th>\n",
       "      <th>kortform</th>\n",
       "      <th>metadata</th>\n",
       "      <th>meter</th>\n",
       "      <th>nummer</th>\n",
       "      <th>region</th>\n",
       "      <th>status</th>\n",
       "      <th>stedfesting</th>\n",
       "      <th>vegavdeling</th>\n",
       "      <th>vegsegment nr</th>\n",
       "    </tr>\n",
       "  </thead>\n",
       "  <tbody>\n",
       "    <tr>\n",
       "      <th>0</th>\n",
       "      <td>  Lettere skadd</td>\n",
       "      <td> 0</td>\n",
       "      <td> 0</td>\n",
       "      <td> 1</td>\n",
       "      <td>  2</td>\n",
       "      <td> 1</td>\n",
       "      <td> 0</td>\n",
       "      <td> Utenfor tettbebyggelse</td>\n",
       "      <td> Asfalt, oljegrus</td>\n",
       "      <td> 80</td>\n",
       "      <td>...</td>\n",
       "      <td> 1418</td>\n",
       "      <td>  1400 Fv55 hp14 m5478</td>\n",
       "      <td> {'versjon': 1, 'type': {'id': 570, 'navn': 'Tr...</td>\n",
       "      <td>  5478</td>\n",
       "      <td>  55</td>\n",
       "      <td> 3</td>\n",
       "      <td> V</td>\n",
       "      <td> {'posisjon': 0.559170149888596, 'retning': 'ME...</td>\n",
       "      <td> 14</td>\n",
       "      <td> 1</td>\n",
       "    </tr>\n",
       "    <tr>\n",
       "      <th>1</th>\n",
       "      <td> Alvorlig skadd</td>\n",
       "      <td> 1</td>\n",
       "      <td> 0</td>\n",
       "      <td> 1</td>\n",
       "      <td>NaN</td>\n",
       "      <td> 0</td>\n",
       "      <td> 0</td>\n",
       "      <td> Utenfor tettbebyggelse</td>\n",
       "      <td> Asfalt, oljegrus</td>\n",
       "      <td> 80</td>\n",
       "      <td>...</td>\n",
       "      <td> 1430</td>\n",
       "      <td> 1400 Fv610 hp1 m16631</td>\n",
       "      <td> {'versjon': 1, 'type': {'id': 570, 'navn': 'Tr...</td>\n",
       "      <td> 16631</td>\n",
       "      <td> 610</td>\n",
       "      <td> 3</td>\n",
       "      <td> V</td>\n",
       "      <td> {'posisjon': 0.858920408542805, 'retning': 'ME...</td>\n",
       "      <td> 14</td>\n",
       "      <td> 1</td>\n",
       "    </tr>\n",
       "    <tr>\n",
       "      <th>2</th>\n",
       "      <td>  Lettere skadd</td>\n",
       "      <td> 0</td>\n",
       "      <td> 0</td>\n",
       "      <td> 1</td>\n",
       "      <td>  2</td>\n",
       "      <td> 1</td>\n",
       "      <td> 0</td>\n",
       "      <td> Utenfor tettbebyggelse</td>\n",
       "      <td> Asfalt, oljegrus</td>\n",
       "      <td> 80</td>\n",
       "      <td>...</td>\n",
       "      <td> 1418</td>\n",
       "      <td>  1400 Fv55 hp14 m4724</td>\n",
       "      <td> {'versjon': 1, 'type': {'id': 570, 'navn': 'Tr...</td>\n",
       "      <td>  4724</td>\n",
       "      <td>  55</td>\n",
       "      <td> 3</td>\n",
       "      <td> V</td>\n",
       "      <td> {'posisjon': 0.482217336144937, 'retning': 'ME...</td>\n",
       "      <td> 14</td>\n",
       "      <td> 1</td>\n",
       "    </tr>\n",
       "  </tbody>\n",
       "</table>\n",
       "<p>3 rows × 51 columns</p>\n",
       "</div>"
      ],
      "text/plain": [
       "  Alvorligste skadegrad  Antall alvorlig skadet  Antall drepte i ulykken  \\\n",
       "0         Lettere skadd                       0                        0   \n",
       "1        Alvorlig skadd                       1                        0   \n",
       "2         Lettere skadd                       0                        0   \n",
       "\n",
       "   Antall enheter  Antall kjørefelt  Antall lettere skadet  \\\n",
       "0               1                 2                      1   \n",
       "1               1               NaN                      0   \n",
       "2               1                 2                      1   \n",
       "\n",
       "   Antall meget alvorlig skadet              Bebyggelse         Dekketype  \\\n",
       "0                             0  Utenfor tettbebyggelse  Asfalt, oljegrus   \n",
       "1                             0  Utenfor tettbebyggelse  Asfalt, oljegrus   \n",
       "2                             0  Utenfor tettbebyggelse  Asfalt, oljegrus   \n",
       "\n",
       "   Fartsgrense     ...      kommune               kortform  \\\n",
       "0           80     ...         1418   1400 Fv55 hp14 m5478   \n",
       "1           80     ...         1430  1400 Fv610 hp1 m16631   \n",
       "2           80     ...         1418   1400 Fv55 hp14 m4724   \n",
       "\n",
       "                                            metadata  meter  nummer  region  \\\n",
       "0  {'versjon': 1, 'type': {'id': 570, 'navn': 'Tr...   5478      55       3   \n",
       "1  {'versjon': 1, 'type': {'id': 570, 'navn': 'Tr...  16631     610       3   \n",
       "2  {'versjon': 1, 'type': {'id': 570, 'navn': 'Tr...   4724      55       3   \n",
       "\n",
       "  status                                        stedfesting vegavdeling  \\\n",
       "0      V  {'posisjon': 0.559170149888596, 'retning': 'ME...          14   \n",
       "1      V  {'posisjon': 0.858920408542805, 'retning': 'ME...          14   \n",
       "2      V  {'posisjon': 0.482217336144937, 'retning': 'ME...          14   \n",
       "\n",
       "   vegsegment nr  \n",
       "0              1  \n",
       "1              1  \n",
       "2              1  \n",
       "\n",
       "[3 rows x 51 columns]"
      ]
     },
     "execution_count": 16,
     "metadata": {},
     "output_type": "execute_result"
    }
   ],
   "source": [
    "ulykker_geojson = nvdb2geojson.fagdata2geojson( ulykker)\n",
    "ulykker_gpd = gpd.GeoDataFrame.from_features( ulykker_geojson['features'])\n",
    "ulykker_gpd.head(3)"
   ]
  },
  {
   "cell_type": "markdown",
   "metadata": {},
   "source": [
    "### Hvor mange av disse trafikkulykkene er i tettsteder? "
   ]
  },
  {
   "cell_type": "code",
   "execution_count": 33,
   "metadata": {
    "collapsed": false
   },
   "outputs": [
    {
     "data": {
      "text/plain": [
       "(2907, 78)"
      ]
     },
     "execution_count": 33,
     "metadata": {},
     "output_type": "execute_result"
    }
   ],
   "source": [
    "ulykker_gpd.crs = {'init': 'epsg:25833'}\n",
    "# Spatial join gir kolonnene 'index_right' og 'index_left'. Disse må slettes eller døpes om \n",
    "# før resultatet fra spatial join brukes i nye joins\n",
    "tettsted_m_turist.rename( columns={ 'index_right' : 'tettsted_m_turist_indeks_right'}, inplace=True)\n",
    "ulykker_i_tettsted = gpd.sjoin(tettsted_m_turist, ulykker_gpd, how='inner', op='intersects')\n",
    "ulykker_i_tettsted.shape"
   ]
  },
  {
   "cell_type": "code",
   "execution_count": 32,
   "metadata": {
    "collapsed": false
   },
   "outputs": [
    {
     "data": {
      "text/plain": [
       "(649, 57)"
      ]
     },
     "execution_count": 32,
     "metadata": {},
     "output_type": "execute_result"
    }
   ],
   "source": [
    "junk = gpd.sjoin( tettsted, ulykker_gpd, how='inner', op='intersects')\n",
    "junk.shape"
   ]
  },
  {
   "cell_type": "markdown",
   "metadata": {},
   "source": [
    "Hmm... VELDIG rart vi får 2907 treff når vi tar spatial Join med ulykker på SUBSETT av tettstedene, mens vi får 649 når vi gjør det på ALLE tettstedene"
   ]
  },
  {
   "cell_type": "code",
   "execution_count": 35,
   "metadata": {
    "collapsed": false
   },
   "outputs": [
    {
     "data": {
      "text/plain": [
       "Index(['Tot_Bef', 'TETTNR', 'Tettstedsn', 'Areal_km2', 'Beff_tett', 'geometry', 'tettsted_m_turist_indeks_right', 'Link turistveg', 'Navn', 'Status', 'antall vegsegmenter', 'fra_meter', 'fylke', 'hp', 'id', 'kategori', 'kommune', 'kortform', 'metadata', 'nummer', 'region', 'status', 'stedfesting', 'strekningslengde', 'til_meter', 'vegavdeling', 'vegsegment nr'], dtype='object')"
      ]
     },
     "execution_count": 35,
     "metadata": {},
     "output_type": "execute_result"
    }
   ],
   "source": [
    "tettsted_m_turist.columns"
   ]
  },
  {
   "cell_type": "code",
   "execution_count": 36,
   "metadata": {
    "collapsed": true
   },
   "outputs": [],
   "source": [
    "%matplotlib inline\n",
    "import matplotlib.pylab as pylab\n",
    "import matplotlib.pyplot as plt"
   ]
  },
  {
   "cell_type": "code",
   "execution_count": 51,
   "metadata": {
    "collapsed": false
   },
   "outputs": [
    {
     "data": {
      "text/plain": [
       "<matplotlib.axes._subplots.AxesSubplot at 0x7f3cabb7bb70>"
      ]
     },
     "execution_count": 51,
     "metadata": {},
     "output_type": "execute_result"
    },
    {
     "data": {
      "image/png": "[encoded data removed]",
      "text/plain": [
       "<matplotlib.figure.Figure at 0x7f3cab4131d0>"
      ]
     },
     "metadata": {},
     "output_type": "display_data"
    }
   ],
   "source": [
    "tettsted_m_turist[ tettsted_m_turist.TETTNR == '4578'].geometry.plot()\n"
   ]
  }
 ],
 "metadata": {
  "kernelspec": {
   "display_name": "Python 3",
   "language": "python",
   "name": "python3"
  },
  "language_info": {
   "codemirror_mode": {
    "name": "ipython",
    "version": 3
   },
   "file_extension": ".py",
   "mimetype": "text/x-python",
   "name": "python",
   "nbconvert_exporter": "python",
   "pygments_lexer": "ipython3",
   "version": "3.4.3"
  }
 },
 "nbformat": 4,
 "nbformat_minor": 2
}

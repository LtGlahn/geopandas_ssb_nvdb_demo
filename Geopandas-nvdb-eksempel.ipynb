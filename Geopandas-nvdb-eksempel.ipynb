{
 "cells": [
  {
   "cell_type": "markdown",
   "metadata": {},
   "source": [
    "# Bruk av geopandas med data fra NVDB og SSB\n",
    "\n",
    "Demo av hvordan geopandas kan brukes med data fra [Nasjonal vegdatabank](https://www.vegvesen.no/fag/teknologi/Nasjonal+vegdatabank) (NVDB) og [Statistisk Sentralbyrå](http://www.ssb.no/natur-og-miljo/geodata) (SSB). \n",
    "\n",
    "Vi ønsker å finne hvilke turistveger som går gjennom hvilke tettsteder - og hvilke trafikkulykker som er registrert der. \n",
    "\n",
    "Gangen er som følger: \n",
    "1. Last ned data over tettsteder fra [SSB](http://www.ssb.no/natur-og-miljo/geodata\n",
    "1. Last ned turistveger fra [NVDB api](https://www.vegvesen.no/nvdb/apidokumentasjon/)\n",
    "1. Finn snittet av turistveger og tettsteder (hvilke turistveger som går gjennom hvilke tettsteder)\n",
    "1. Last ned trafikkulykker på turistvegene  \n",
    "    1. Vi bruker NVDB api'ets [overlappfilter](https://www.vegvesen.no/nvdb/apidokumentasjon/#/parameter/overlappfilter)\n",
    "1. Finn snittet av trafikkulykker på turistveger og tettsteder på turistveger\n",
    "    1. Strengt tatt kunne vi nøyd oss med snittet av ulykker på turistveger og tettsteder - men med valgt metodikk får vi med egenskapene til turistveger også. \n",
    "\n",
    "# Installasjon \n",
    "\n",
    "[installasjon](installasjon.md) "
   ]
  },
  {
   "cell_type": "markdown",
   "metadata": {},
   "source": [
    "# Last ned data fra SSB\n",
    "\n",
    "Dette steget kan også gjøres manuelt. Direkte lenke for nedlasting av 2016-datasett er http://www.ssb.no/natur-og-miljo/_attachment/286736?_ts=158d3354ee0 \n",
    "\n",
    "*NB! Det vil ikke overraske meg om lenkeråte gjør at du uansett må inn på SSB og finne nedlastingslenker* \n",
    "\n",
    "### Hent SSB-data manuelt \n",
    "\n",
    "1. Gå inn på http://www.ssb.no/natur-og-miljo/geodata#Nedlasting_av_datasett_med_dynamiske_avgrensinger . \n",
    "1. Klikk på *Nedlasting av kart over tettsteder*. \n",
    "1. Klikk på det året du vil laste ned for. \n",
    "    1. Nedlasting skal starte automagisk... hvis ikke kan du prøve en annen nettleser, evt kopiere lenken og bruke verktøy som curl eller wget. \n",
    "1. Pakk ut zip-arkivet og legg mappen ```Tettsted2016``` sammen med øvrige filer (rotnivå i repos'et). Dvs at stien til shapefilen skal være ```Tettsted2016/Tettsted2016.shp```\n",
    "\n",
    "\n",
    "\n",
    "\n",
    "\n"
   ]
  },
  {
   "cell_type": "code",
   "execution_count": 24,
   "metadata": {
    "collapsed": true
   },
   "outputs": [],
   "source": [
    "## Last ned SSB-data\n",
    "# Se https://stackoverflow.com/a/14260592 , det om python 3+\n",
    "import requests\n",
    "import zipfile\n",
    "import io\n",
    "import os\n",
    "\n",
    "url = 'http://www.ssb.no/natur-og-miljo/_attachment/286736?_ts=158d3354ee0'\n",
    "\n",
    "# Laster kun en gang: \n",
    "if not os.path.exists('Tettsted2016/Tettsted2016.shp'):\n",
    "    r = requests.get(url)\n",
    "    if r.ok: \n",
    "        z = zipfile.ZipFile(io.BytesIO(r.content))\n",
    "        z.extractall()\n",
    "    else: \n",
    "        print( \"Nedlasting feiler:\", r.status_code, r.reason )\n",
    "        "
   ]
  },
  {
   "cell_type": "markdown",
   "metadata": {},
   "source": [
    "# Importer de bibliotekene som trengs\n"
   ]
  },
  {
   "cell_type": "code",
   "execution_count": 4,
   "metadata": {
    "collapsed": true
   },
   "outputs": [],
   "source": [
    "import geopandas as gpd\n",
    "import pandas as pd\n",
    "import nvdbapi      # Fra https://github.com/LtGlahn/nvdbapi-V2\n",
    "import nvdb2geojson # Fra https://github.com/LtGlahn/nvdbapi-V2"
   ]
  },
  {
   "cell_type": "markdown",
   "metadata": {},
   "source": [
    "# Les data"
   ]
  },
  {
   "cell_type": "code",
   "execution_count": 5,
   "metadata": {},
   "outputs": [
    {
     "name": "stderr",
     "output_type": "stream",
     "text": [
      "C:\\Data\\test\\notebook\\geopandas_vegdata_eksempel\\nvdbapi.py:293: UserWarning: \n",
      "You should provide the file nvdbapi-clientinfo.json \n",
      " \n",
      "{ \"X-Client\" : \"YOUR SYSTEM\",\n",
      " \"X-Kontaktperson\" : \"ola.nordmann@eposten.din\" }\n",
      "\n",
      "  warn( mytext )\n"
     ]
    }
   ],
   "source": [
    "tettsted = gpd.read_file( 'Tettsted2016/Tettsted2016.shp')\n",
    "turistveger = nvdbapi.nvdbFagdata(777)\n",
    "turistveger_geojson = nvdb2geojson.fagdata2geojson( turistveger)"
   ]
  },
  {
   "cell_type": "code",
   "execution_count": 6,
   "metadata": {
    "collapsed": true
   },
   "outputs": [],
   "source": [
    "turist2 = gpd.GeoDataFrame.from_features( turistveger_geojson['features'])"
   ]
  },
  {
   "cell_type": "markdown",
   "metadata": {},
   "source": [
    "# Finn turistveger i tettsteder \n",
    "\n",
    "http://geopandas.org/mergingdata.html , spatial joins. \n",
    "\n"
   ]
  },
  {
   "cell_type": "code",
   "execution_count": 7,
   "metadata": {},
   "outputs": [
    {
     "name": "stderr",
     "output_type": "stream",
     "text": [
      "C:\\Users\\jajens\\AppData\\Local\\Continuum\\Anaconda3\\lib\\site-packages\\numpy\\lib\\function_base.py:2652: RuntimeWarning: invalid value encountered in ? (vectorized)\n",
      "  outputs = ufunc(*inputs)\n"
     ]
    }
   ],
   "source": [
    "tettsted.crs = {'init': 'epsg:25833'}\n",
    "turist2.crs = {'init': 'epsg:25833'}\n",
    "\n",
    "turist_i_tettsted = gpd.sjoin( turist2, tettsted, how='inner', op='intersects')\n",
    "tettsted_m_turist = gpd.sjoin( tettsted, turist2, how='inner', op='intersects')\n"
   ]
  },
  {
   "cell_type": "code",
   "execution_count": 8,
   "metadata": {},
   "outputs": [
    {
     "name": "stdout",
     "output_type": "stream",
     "text": [
      "Antall segmenter med turistveger 527\n",
      "Antall tettsteder 990\n",
      "Tettsteder med turistveger 120 FJERN DUPLIKATER?\n",
      "Turistveger som går gjennom tettsteder 120\n"
     ]
    }
   ],
   "source": [
    "print( \"Antall segmenter med turistveger\", len( turist2))\n",
    "print( \"Antall tettsteder\", len(tettsted))\n",
    "print( \"Tettsteder med turistveger\", len(tettsted_m_turist), \"FJERN DUPLIKATER?\")\n",
    "print( \"Turistveger som går gjennom tettsteder\", len(turist_i_tettsted))"
   ]
  },
  {
   "cell_type": "markdown",
   "metadata": {},
   "source": [
    "Våre 17 turistveger er splittet opp i 527 korte segmenter - og overgangen mellom segmentene er ofte i vegkryss, dvs vi har typisk mer enn ett turistveg-segment per tettsted. Det gir duplikater som må fjernes fra datasettet _tettsteder med turistveger_"
   ]
  },
  {
   "cell_type": "code",
   "execution_count": 9,
   "metadata": {},
   "outputs": [
    {
     "name": "stdout",
     "output_type": "stream",
     "text": [
      "Tettsteder med turistveger 44 UTEN duplikater\n"
     ]
    }
   ],
   "source": [
    "tettsted_m_turist.drop_duplicates( subset='TETTNR', inplace=True)\n",
    "print( \"Tettsteder med turistveger\", len(tettsted_m_turist), \"UTEN duplikater\")"
   ]
  },
  {
   "cell_type": "markdown",
   "metadata": {},
   "source": [
    "# Finner trafikkulykker på turistveger\n",
    "\n",
    "Bruker NVDB api's overlappfilter https://www.vegvesen.no/nvdb/apidokumentasjon/#/parameter/overlappfilter \n"
   ]
  },
  {
   "cell_type": "code",
   "execution_count": 12,
   "metadata": {},
   "outputs": [
    {
     "name": "stderr",
     "output_type": "stream",
     "text": [
      "C:\\Data\\test\\notebook\\geopandas_vegdata_eksempel\\nvdbapi.py:293: UserWarning: \n",
      "You should provide the file nvdbapi-clientinfo.json \n",
      " \n",
      "{ \"X-Client\" : \"YOUR SYSTEM\",\n",
      " \"X-Kontaktperson\" : \"ola.nordmann@eposten.din\" }\n",
      "\n",
      "  warn( mytext )\n"
     ]
    },
    {
     "name": "stdout",
     "output_type": "stream",
     "text": [
      "Antall ulykker på turistveger {'antall': 4076, 'strekningslengde': 0}\n"
     ]
    }
   ],
   "source": [
    "ulykker = nvdbapi.nvdbFagdata( 570)\n",
    "ulykker.addfilter_overlapp( '777'  )\n",
    "print( 'Antall ulykker på turistveger', ulykker.statistikk()) "
   ]
  },
  {
   "cell_type": "markdown",
   "metadata": {},
   "source": [
    "### Gjør om ulykkene til geodataframe"
   ]
  },
  {
   "cell_type": "code",
   "execution_count": 23,
   "metadata": {},
   "outputs": [],
   "source": [
    "ulykker_geojson = nvdb2geojson.fagdata2geojson( ulykker)\n",
    "ulykker_gpd = gpd.GeoDataFrame.from_features( ulykker_geojson['features']);\n"
   ]
  },
  {
   "cell_type": "markdown",
   "metadata": {},
   "source": [
    "### Hvor mange av disse trafikkulykkene er i tettsteder? "
   ]
  },
  {
   "cell_type": "code",
   "execution_count": 14,
   "metadata": {},
   "outputs": [
    {
     "data": {
      "text/plain": [
       "(649, 78)"
      ]
     },
     "execution_count": 14,
     "metadata": {},
     "output_type": "execute_result"
    }
   ],
   "source": [
    "ulykker_gpd.crs = {'init': 'epsg:25833'}\n",
    "# Spatial join gir kolonnene 'index_right' og 'index_left'. Disse må slettes eller døpes om \n",
    "# før resultatet fra spatial join brukes i nye joins\n",
    "tettsted_m_turist.rename( columns={ 'index_right' : 'tettsted_m_turist_indeks_right'}, inplace=True)\n",
    "ulykker_i_tettsted = gpd.sjoin( ulykker_gpd, tettsted_m_turist, how='inner', op='intersects')\n",
    "ulykker_i_tettsted.shape"
   ]
  },
  {
   "cell_type": "code",
   "execution_count": 16,
   "metadata": {},
   "outputs": [
    {
     "data": {
      "text/plain": [
       "Index(['Alvorligste skadegrad', 'Antall alvorlig skadet',\n",
       "       'Antall drepte i ulykken', 'Antall enheter', 'Antall kjørefelt',\n",
       "       'Antall lettere skadet', 'Antall meget alvorlig skadet', 'Bebyggelse',\n",
       "       'Dekketype', 'Fartsgrense', 'Felttype', 'Forsterket vegoppmerking',\n",
       "       'Føreforhold', 'Geometri, punkt', 'Historisk hp',\n",
       "       'Historisk kilometerverdi', 'Historisk vegkategori',\n",
       "       'Historisk vegnummer', 'Historisk vegstatus', 'Kommunenr', 'Lysforhold',\n",
       "       'Midtdeler', 'Registreringsdato for fagdata',\n",
       "       'Stedfestingens nøyaktighet', 'Stedsforhold', 'Temperatur',\n",
       "       'Uhell kategori', 'Uhellskode', 'Ukedag', 'Ulykkesdato',\n",
       "       'Ulykkestidspunkt', 'Vegbredde', 'Vegnavn', 'Vegtype', 'Værforhold',\n",
       "       'antall vegsegmenter_left', 'fylke_left', 'geometry', 'hp_left',\n",
       "       'id_left', 'kategori_left', 'kommune_left', 'kortform_left',\n",
       "       'metadata_left', 'meter', 'nummer_left', 'region_left', 'status_left',\n",
       "       'stedfesting_left', 'vegavdeling_left', 'vegsegment nr_left',\n",
       "       'index_right', 'Areal_km2', 'Beff_tett', 'TETTNR', 'Tettstedsn',\n",
       "       'Tot_Bef', 'tettsted_m_turist_indeks_right', 'Link turistveg', 'Navn',\n",
       "       'Status', 'antall vegsegmenter_right', 'fra_meter', 'fylke_right',\n",
       "       'hp_right', 'id_right', 'kategori_right', 'kommune_right',\n",
       "       'kortform_right', 'metadata_right', 'nummer_right', 'region_right',\n",
       "       'status_right', 'stedfesting_right', 'strekningslengde', 'til_meter',\n",
       "       'vegavdeling_right', 'vegsegment nr_right'],\n",
       "      dtype='object')"
      ]
     },
     "execution_count": 16,
     "metadata": {},
     "output_type": "execute_result"
    }
   ],
   "source": [
    "ulykker_i_tettsted.columns"
   ]
  },
  {
   "cell_type": "code",
   "execution_count": null,
   "metadata": {
    "collapsed": true
   },
   "outputs": [],
   "source": []
  },
  {
   "cell_type": "code",
   "execution_count": 17,
   "metadata": {
    "collapsed": true
   },
   "outputs": [],
   "source": [
    "%matplotlib inline\n",
    "import matplotlib.pylab as pylab\n",
    "import matplotlib.pyplot as plt"
   ]
  },
  {
   "cell_type": "code",
   "execution_count": 18,
   "metadata": {},
   "outputs": [
    {
     "data": {
      "text/plain": [
       "<matplotlib.axes._subplots.AxesSubplot at 0x2108b710>"
      ]
     },
     "execution_count": 18,
     "metadata": {},
     "output_type": "execute_result"
    },
    {
     "data": {
      "image/png": "[encoded data removed]",
      "text/plain": [
       "<matplotlib.figure.Figure at 0x21075ac8>"
      ]
     },
     "metadata": {},
     "output_type": "display_data"
    }
   ],
   "source": [
    "tettsted_m_turist[ tettsted_m_turist.TETTNR == '4578'].geometry.plot()\n"
   ]
  },
  {
   "cell_type": "code",
   "execution_count": 19,
   "metadata": {},
   "outputs": [
    {
     "data": {
      "text/plain": [
       "8               POINT Z (89272.83984 6831871.18994 2.98)\n",
       "98           POINT Z (89542.36386 6831112.47493 2.52845)\n",
       "112    POINT Z (89322.36126000001 6831828.35874 2.85016)\n",
       "137           POINT Z (89373.62676 6831765.62907 2.8322)\n",
       "138          POINT Z (89435.66747 6831494.08702 3.49889)\n",
       "Name: geometry, dtype: object"
      ]
     },
     "execution_count": 19,
     "metadata": {},
     "output_type": "execute_result"
    }
   ],
   "source": [
    "ulykker_i_tettsted.geometry.head()"
   ]
  },
  {
   "cell_type": "code",
   "execution_count": 20,
   "metadata": {
    "collapsed": true
   },
   "outputs": [],
   "source": [
    "# Dumper til fil: \n",
    "\n",
    "with open('ulykker.json', 'w') as f:\n",
    "    f.write(ulykker_gpd.to_json())\n",
    "    \n",
    "with open('tettsted_m_turist.json', 'w') as f:\n",
    "    f.write(tettsted_m_turist.to_json())"
   ]
  },
  {
   "cell_type": "code",
   "execution_count": 21,
   "metadata": {
    "collapsed": true
   },
   "outputs": [],
   "source": [
    "with open('ulykker_litenJoin.geojson', 'w') as f:\n",
    "    f.write(junk.to_json())\n",
    "    \n",
    "with open('ulykker_storJoin.geojson', 'w') as f:\n",
    "    f.write(ulykker_i_tettsted.to_json())"
   ]
  },
  {
   "cell_type": "code",
   "execution_count": 22,
   "metadata": {},
   "outputs": [
    {
     "data": {
      "text/html": [
       "<div>\n",
       "<style>\n",
       "    .dataframe thead tr:only-child th {\n",
       "        text-align: right;\n",
       "    }\n",
       "\n",
       "    .dataframe thead th {\n",
       "        text-align: left;\n",
       "    }\n",
       "\n",
       "    .dataframe tbody tr th {\n",
       "        vertical-align: top;\n",
       "    }\n",
       "</style>\n",
       "<table border=\"1\" class=\"dataframe\">\n",
       "  <thead>\n",
       "    <tr style=\"text-align: right;\">\n",
       "      <th></th>\n",
       "      <th>Areal_km2</th>\n",
       "      <th>Beff_tett</th>\n",
       "      <th>TETTNR</th>\n",
       "      <th>Tettstedsn</th>\n",
       "      <th>Tot_Bef</th>\n",
       "      <th>geometry</th>\n",
       "      <th>tettsted_m_turist_indeks_right</th>\n",
       "      <th>Link turistveg</th>\n",
       "      <th>Navn</th>\n",
       "      <th>Status</th>\n",
       "      <th>...</th>\n",
       "      <th>kortform</th>\n",
       "      <th>metadata</th>\n",
       "      <th>nummer</th>\n",
       "      <th>region</th>\n",
       "      <th>status</th>\n",
       "      <th>stedfesting</th>\n",
       "      <th>strekningslengde</th>\n",
       "      <th>til_meter</th>\n",
       "      <th>vegavdeling</th>\n",
       "      <th>vegsegment nr</th>\n",
       "    </tr>\n",
       "  </thead>\n",
       "  <tbody>\n",
       "    <tr>\n",
       "      <th>404</th>\n",
       "      <td>0.623732</td>\n",
       "      <td>994.016865</td>\n",
       "      <td>5093</td>\n",
       "      <td>Tyssedal</td>\n",
       "      <td>620</td>\n",
       "      <td>POLYGON ((31611.71229999978 6695084.5956, 3161...</td>\n",
       "      <td>429</td>\n",
       "      <td>http://www.nasjonaleturistveger.no/no/hardanger</td>\n",
       "      <td>Hardanger</td>\n",
       "      <td>Nasjonal turistveg</td>\n",
       "      <td>...</td>\n",
       "      <td>1200 Rv13 hp5 m0-4944</td>\n",
       "      <td>{'type': {'id': 777, 'navn': 'Turistveg'}, 've...</td>\n",
       "      <td>13</td>\n",
       "      <td>3</td>\n",
       "      <td>V</td>\n",
       "      <td>{'veglenkeid': 805649, 'fra_posisjon': 0.0, 't...</td>\n",
       "      <td>4944</td>\n",
       "      <td>4944</td>\n",
       "      <td>12</td>\n",
       "      <td>67</td>\n",
       "    </tr>\n",
       "  </tbody>\n",
       "</table>\n",
       "<p>1 rows × 27 columns</p>\n",
       "</div>"
      ],
      "text/plain": [
       "     Areal_km2   Beff_tett TETTNR Tettstedsn  Tot_Bef  \\\n",
       "404   0.623732  994.016865   5093   Tyssedal      620   \n",
       "\n",
       "                                              geometry  \\\n",
       "404  POLYGON ((31611.71229999978 6695084.5956, 3161...   \n",
       "\n",
       "     tettsted_m_turist_indeks_right  \\\n",
       "404                             429   \n",
       "\n",
       "                                      Link turistveg       Navn  \\\n",
       "404  http://www.nasjonaleturistveger.no/no/hardanger  Hardanger   \n",
       "\n",
       "                 Status      ...                     kortform  \\\n",
       "404  Nasjonal turistveg      ...        1200 Rv13 hp5 m0-4944   \n",
       "\n",
       "                                              metadata  nummer  region  \\\n",
       "404  {'type': {'id': 777, 'navn': 'Turistveg'}, 've...      13       3   \n",
       "\n",
       "     status                                        stedfesting  \\\n",
       "404       V  {'veglenkeid': 805649, 'fra_posisjon': 0.0, 't...   \n",
       "\n",
       "     strekningslengde til_meter vegavdeling  vegsegment nr  \n",
       "404              4944      4944          12             67  \n",
       "\n",
       "[1 rows x 27 columns]"
      ]
     },
     "execution_count": 22,
     "metadata": {},
     "output_type": "execute_result"
    }
   ],
   "source": [
    "# fjerner duplikater? \n",
    "tettsted_m_turist[ tettsted_m_turist.Tettstedsn == 'Tyssedal' ]"
   ]
  }
 ],
 "metadata": {
  "kernelspec": {
   "display_name": "Python 3",
   "language": "python",
   "name": "python3"
  },
  "language_info": {
   "codemirror_mode": {
    "name": "ipython",
    "version": 3
   },
   "file_extension": ".py",
   "mimetype": "text/x-python",
   "name": "python",
   "nbconvert_exporter": "python",
   "pygments_lexer": "ipython3",
   "version": "3.6.1"
  }
 },
 "nbformat": 4,
 "nbformat_minor": 2
}

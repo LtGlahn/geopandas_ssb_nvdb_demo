{
 "cells": [
  {
   "cell_type": "markdown",
   "metadata": {},
   "source": [
    "# Bruk av geopandas med data fra NVDB og SSB\n",
    "\n",
    "Demo av hvordan geopandas kan brukes med data fra [Nasjonal vegdatabank](https://www.vegvesen.no/fag/teknologi/Nasjonal+vegdatabank) (NVDB) og [Statistisk Sentralbyrå](http://www.ssb.no/natur-og-miljo/geodata) (SSB). \n",
    "\n",
    "Vi ønsker å finne hvilke turistveger som går gjennom hvilke tettsteder - og hvilke trafikkulykker som er registrert der. \n",
    "\n",
    "Gangen er som følger: \n",
    "1. [Installasjon](installasjon.md) \n",
    "1. Last ned data over tettsteder fra [SSB](http://www.ssb.no/natur-og-miljo/geodata\n",
    "1. Last ned turistveger fra [NVDB api](https://www.vegvesen.no/nvdb/apidokumentasjon/)\n",
    "1. Finn snittet av turistveger og tettsteder (hvilke turistveger som går gjennom hvilke tettsteder)\n",
    "1. Last ned trafikkulykker på turistvegene  \n",
    "    1. Vi bruker NVDB api'ets [overlappfilter](https://www.vegvesen.no/nvdb/apidokumentasjon/#/parameter/overlappfilter)\n",
    "1. Finn snittet av trafikkulykker mot tettsteder med turistveger.\n"
   ]
  },
  {
   "cell_type": "markdown",
   "metadata": {},
   "source": [
    "# [Installasjon](installasjon.md) \n",
    "\n",
    "[Installasjon](installasjon.md) "
   ]
  },
  {
   "cell_type": "code",
   "execution_count": 1,
   "metadata": {
    "collapsed": true
   },
   "outputs": [],
   "source": [
    "# For nedlasting fra SSB\n",
    "import requests\n",
    "import zipfile\n",
    "import io\n",
    "import os\n",
    "\n",
    "# For å hente data fra NVDB api \n",
    "import nvdbapi      # Fra https://github.com/LtGlahn/nvdbapi-V2\n",
    "import nvdb2geojson # Fra https://github.com/LtGlahn/nvdbapi-V2\n",
    "\n",
    "# For datakverning og analyse\n",
    "import geopandas as gpd\n",
    "import pandas as pd\n"
   ]
  },
  {
   "cell_type": "markdown",
   "metadata": {},
   "source": [
    "\n",
    "# Last ned data fra SSB"
   ]
  },
  {
   "cell_type": "code",
   "execution_count": null,
   "metadata": {
    "collapsed": true
   },
   "outputs": [],
   "source": [
    "# Se https://stackoverflow.com/a/14260592 , det om python 3+\n",
    "\n",
    "url = 'http://www.ssb.no/natur-og-miljo/_attachment/286736?_ts=158d3354ee0'\n",
    "\n",
    "# Laster kun en gang: \n",
    "if not os.path.exists('Tettsted2016/Tettsted2016.shp'):\n",
    "    r = requests.get(url)\n",
    "    if r.ok: \n",
    "        z = zipfile.ZipFile(io.BytesIO(r.content))\n",
    "        z.extractall()\n",
    "    else: \n",
    "        print( \"Nedlasting feiler:\", r.status_code, r.reason )"
   ]
  },
  {
   "cell_type": "markdown",
   "metadata": {},
   "source": [
    "### Hent SSB-data manuelt \n",
    "\n",
    "Dette steget kan også gjøres manuelt. Direkte lenke for nedlasting av 2016-datasett er http://www.ssb.no/natur-og-miljo/_attachment/286736?_ts=158d3354ee0 \n",
    "\n",
    "*NB! Det vil ikke overraske meg om lenkeråte gjør at du uansett må inn på SSB og finne nedlastingslenker* \n",
    "\n",
    "#### Finn lenke til nedlasting på SSB's nettsider\n",
    "\n",
    "1. Gå inn på http://www.ssb.no/natur-og-miljo/geodata#Nedlasting_av_datasett_med_dynamiske_avgrensinger . \n",
    "1. Klikk på *Nedlasting av kart over tettsteder*. \n",
    "1. Klikk på det året du vil laste ned for. \n",
    "    1. Nedlasting skal starte automagisk... hvis ikke kan du prøve en annen nettleser, evt kopiere lenken og bruke verktøy som curl eller wget. \n",
    "1. Pakk ut zip-arkivet og legg mappen ```Tettsted2016``` sammen med øvrige filer (rotnivå i repos'et). Dvs at stien til shapefilen skal være ```Tettsted2016/Tettsted2016.shp```"
   ]
  },
  {
   "cell_type": "markdown",
   "metadata": {},
   "source": [
    "# Les data fra Nasjonal vegdatabank"
   ]
  },
  {
   "cell_type": "code",
   "execution_count": null,
   "metadata": {
    "collapsed": false
   },
   "outputs": [],
   "source": [
    "tettsted = gpd.read_file( 'Tettsted2016/Tettsted2016.shp')\n",
    "turistveger = nvdbapi.nvdbFagdata(777)\n",
    "turistveger_geojson = nvdb2geojson.fagdata2geojson( turistveger)"
   ]
  },
  {
   "cell_type": "code",
   "execution_count": null,
   "metadata": {
    "collapsed": true
   },
   "outputs": [],
   "source": [
    "turist2 = gpd.GeoDataFrame.from_features( turistveger_geojson['features'])"
   ]
  },
  {
   "cell_type": "markdown",
   "metadata": {},
   "source": [
    "# Finn turistveger i tettsteder \n",
    "\n",
    "http://geopandas.org/mergingdata.html , spatial joins. \n",
    "\n"
   ]
  },
  {
   "cell_type": "code",
   "execution_count": null,
   "metadata": {
    "collapsed": false
   },
   "outputs": [],
   "source": [
    "tettsted.crs = {'init': 'epsg:25833'}\n",
    "turist2.crs = {'init': 'epsg:25833'}\n",
    "\n",
    "turist_i_tettsted = gpd.sjoin( turist2, tettsted, how='inner', op='intersects')\n",
    "tettsted_m_turist = gpd.sjoin( tettsted, turist2, how='inner', op='intersects')\n"
   ]
  },
  {
   "cell_type": "markdown",
   "metadata": {},
   "source": [
    "Den kryptiske **RuntimeWarning**- advarselen over skyldes at vi har divisjon med 0 et sted i arbeidsflyten. Dette kan vi trygt ignorerere. \n",
    "\n",
    "La oss sjekke hvor mange vi fant: "
   ]
  },
  {
   "cell_type": "code",
   "execution_count": null,
   "metadata": {
    "collapsed": false
   },
   "outputs": [],
   "source": [
    "print( \"Antall segmenter med turistveger\", len( turist2))\n",
    "print( \"Antall tettsteder\", len(tettsted))\n",
    "print( \"Tettsteder med turistveger\", len(tettsted_m_turist), \"Med  DUPLIKATER?\")\n",
    "print( \"Turistveger som går gjennom tettsteder\", len(turist_i_tettsted))"
   ]
  },
  {
   "cell_type": "markdown",
   "metadata": {},
   "source": [
    "Våre 17 turistveger er splittet opp i 527 korte segmenter - og overgangen mellom segmentene er ofte i vegkryss, dvs vi har typisk mer enn ett turistveg-segment per tettsted. Det gir duplikater som må fjernes fra datasettet _tettsteder med turistveger_"
   ]
  },
  {
   "cell_type": "code",
   "execution_count": null,
   "metadata": {
    "collapsed": false
   },
   "outputs": [],
   "source": [
    "tettsted_m_turist.drop_duplicates( subset='TETTNR', inplace=True)\n",
    "print( \"Tettsteder med turistveger\", len(tettsted_m_turist), \"UTEN duplikater\")"
   ]
  },
  {
   "cell_type": "markdown",
   "metadata": {},
   "source": [
    "# Finner trafikkulykker på turistveger\n",
    "\n",
    "Bruker NVDB api's overlappfilter https://www.vegvesen.no/nvdb/apidokumentasjon/#/parameter/overlappfilter \n"
   ]
  },
  {
   "cell_type": "code",
   "execution_count": null,
   "metadata": {
    "collapsed": false
   },
   "outputs": [],
   "source": [
    "ulykker = nvdbapi.nvdbFagdata( 570)\n",
    "ulykker.addfilter_overlapp( '777'  )\n",
    "print( 'Antall ulykker på turistveger', ulykker.statistikk()) "
   ]
  },
  {
   "cell_type": "markdown",
   "metadata": {},
   "source": [
    "### Gjør om ulykkene til geodataframe\n",
    "\n",
    "Vi gjør om data fra NVDB api til geojson-objekter, som så leses direkte inn i geopdandas-dataFrame. "
   ]
  },
  {
   "cell_type": "code",
   "execution_count": null,
   "metadata": {
    "collapsed": true
   },
   "outputs": [],
   "source": [
    "ulykker_geojson = nvdb2geojson.fagdata2geojson( ulykker)\n",
    "ulykker_gpd = gpd.GeoDataFrame.from_features( ulykker_geojson['features']);\n"
   ]
  },
  {
   "cell_type": "markdown",
   "metadata": {},
   "source": [
    "### Hvor mange av disse trafikkulykkene er i tettsteder? "
   ]
  },
  {
   "cell_type": "code",
   "execution_count": null,
   "metadata": {
    "collapsed": false
   },
   "outputs": [],
   "source": [
    "ulykker_gpd.crs = {'init': 'epsg:25833'}\n",
    "# Spatial join gir kolonnene 'index_right' og 'index_left'. Disse må slettes eller døpes om \n",
    "# før resultatet fra spatial join brukes i nye joins\n",
    "tettsted_m_turist.rename( columns={ 'index_right' : 'tettsted_m_turist_indeks_right'}, inplace=True)\n",
    "ulykker_i_tettsted = gpd.sjoin( ulykker_gpd, tettsted_m_turist, how='inner', op='intersects')\n",
    "print( len(ulykker_i_tettsted), \"ulykker på turistveger gjennom tettsteder\") "
   ]
  },
  {
   "cell_type": "markdown",
   "metadata": {},
   "source": [
    "#### Hvor mange tettsteder med turistveger har trafikkulykker? "
   ]
  },
  {
   "cell_type": "code",
   "execution_count": null,
   "metadata": {
    "collapsed": false
   },
   "outputs": [],
   "source": [
    "tettsted_m_turistveg_ulykker = gpd.sjoin( tettsted_m_turist, ulykker_gpd, how='inner', op='intersects' ) \n",
    "\n",
    "# Fjerner duplikater\n",
    "tettsted_m_turistveg_ulykker.drop_duplicates( subset='TETTNR', inplace=True)\n",
    "\n",
    "len(tettsted_m_turistveg_ulykker)"
   ]
  },
  {
   "cell_type": "code",
   "execution_count": null,
   "metadata": {
    "collapsed": false
   },
   "outputs": [],
   "source": [
    "ulykker_i_tettsted.columns"
   ]
  },
  {
   "cell_type": "code",
   "execution_count": null,
   "metadata": {
    "collapsed": false
   },
   "outputs": [],
   "source": [
    "tettsted_m_turistveg_ulykker[  ['TETTNR', 'Tettstedsn', 'Areal_km2' ]].sort( 'Areal_km2')"
   ]
  },
  {
   "cell_type": "code",
   "execution_count": null,
   "metadata": {
    "collapsed": false
   },
   "outputs": [],
   "source": [
    "%matplotlib notebook # inline # Eller bør vi bruke notebook? \n",
    "import matplotlib.pylab as pylab\n",
    "import matplotlib.pyplot as plt"
   ]
  },
  {
   "cell_type": "code",
   "execution_count": null,
   "metadata": {
    "collapsed": false
   },
   "outputs": [],
   "source": [
    "vistettsted = 'Bleik'\n",
    "fig1, ax1 = plt.subplots()\n",
    "ax1.set_aspect('equal')\n",
    "tettsted_m_turistveg_ulykker[ tettsted_m_turistveg_ulykker.Tettstedsn == vistettsted ].geometry.plot( ax=ax1, color='w', \n",
    "                                                                                                 edgecolor='b')\n",
    "\n",
    "turist_i_tettsted[ turist_i_tettsted.Tettstedsn == vistettsted].geometry.plot( ax=ax1, color='g')\n",
    "ulykker_i_tettsted[ ulykker_i_tettsted.Tettstedsn == vistettsted].geometry.plot( ax=ax1, color='r')"
   ]
  },
  {
   "cell_type": "code",
   "execution_count": null,
   "metadata": {
    "collapsed": false
   },
   "outputs": [],
   "source": [
    "%matplotlib --list"
   ]
  },
  {
   "cell_type": "code",
   "execution_count": null,
   "metadata": {
    "collapsed": false
   },
   "outputs": [],
   "source": [
    "ulykker_i_tettsted.geometry.head()"
   ]
  },
  {
   "cell_type": "code",
   "execution_count": null,
   "metadata": {
    "collapsed": true
   },
   "outputs": [],
   "source": [
    "# Dumper til fil: \n",
    "\n",
    "with open('ulykker.json', 'w') as f:\n",
    "    f.write(ulykker_gpd.to_json())\n",
    "    \n",
    "with open('tettsted_m_turist.json', 'w') as f:\n",
    "    f.write(tettsted_m_turist.to_json())"
   ]
  },
  {
   "cell_type": "code",
   "execution_count": null,
   "metadata": {
    "collapsed": false
   },
   "outputs": [],
   "source": [
    "with open('ulykker_litenJoin.geojson', 'w') as f:\n",
    "    f.write(junk.to_json())\n",
    "    \n",
    "with open('ulykker_storJoin.geojson', 'w') as f:\n",
    "    f.write(ulykker_i_tettsted.to_json())"
   ]
  },
  {
   "cell_type": "code",
   "execution_count": null,
   "metadata": {
    "collapsed": false
   },
   "outputs": [],
   "source": [
    "# fjerner duplikater? \n",
    "tettsted_m_turist[ tettsted_m_turist.Tettstedsn == 'Tyssedal' ]"
   ]
  }
 ],
 "metadata": {
  "kernelspec": {
   "display_name": "Python 3",
   "language": "python",
   "name": "python3"
  },
  "language_info": {
   "codemirror_mode": {
    "name": "ipython",
    "version": 3
   },
   "file_extension": ".py",
   "mimetype": "text/x-python",
   "name": "python",
   "nbconvert_exporter": "python",
   "pygments_lexer": "ipython3",
   "version": "3.4.3"
  }
 },
 "nbformat": 4,
 "nbformat_minor": 2
}

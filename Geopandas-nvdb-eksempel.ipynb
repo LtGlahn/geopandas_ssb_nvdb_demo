{
 "cells": [
  {
   "cell_type": "markdown",
   "metadata": {},
   "source": [
    "# Bruk av geopandas med data fra NVDB og SSB\n",
    "\n",
    "Demo av hvordan geopandas kan brukes med data fra [Nasjonal vegdatabank](https://www.vegvesen.no/fag/teknologi/Nasjonal+vegdatabank) (NVDB) og [Statistisk Sentralbyrå](http://www.ssb.no/natur-og-miljo/geodata) (SSB). \n",
    "\n",
    "Vi ønsker å finne hvilke turistveger som går gjennom hvilke sentrumsområder - og hvilke trafikkulykker som er registrert der. \n",
    "\n",
    "Gangen er som følger: \n",
    "1. Last ned data over sentrumsområder fra [SSB](http://www.ssb.no/natur-og-miljo/geodata\n",
    "1. Last ned turistveger fra [NVDB api](https://www.vegvesen.no/nvdb/apidokumentasjon/)\n",
    "1. Finn snittet av turistveger og sentrumsområder (hvilke turistveger som går gjennom hvilke sentrumsområder)\n",
    "1. Finn trafikkulykkene på turistvegene som går gjennom sentrumsområder. \n",
    "    1. Finn BoundingBox for hvert av sentrumsområdene \n",
    "    1. Hent trafikkulykker innenfor BBox. M\n",
    "    1. Finn trafikkulykkene som ligger på turistvegens senterlinje\n",
    "        1. Alternativt finn trafikkulykkene innenfor radius fra turistvegen. \n",
    "1. Lag fine plott og sånn\n",
    "\n",
    "# Installasjon\n",
    "\n",
    "Anbefaling - Anaconda distribusjon på din plattform (testet på linux og windows). \n",
    "\n",
    "Koden finnes både som python-script og som jupyter notebook. \n",
    "\n",
    "## De kule tingene kan være vrient på Windows\n",
    "\n",
    "Litt om hvordan man får tak i Geopandas og øvrige bibliotek på Windows-plattform. \n",
    "\n",
    "# NB! WORK IN PROGRESS! \n",
    "\n",
    "Foreløbig kun skjelettet til det som skal bli kule ting... \n"
   ]
  }
 ],
 "metadata": {
  "kernelspec": {
   "display_name": "Python 3",
   "language": "python",
   "name": "python3"
  },
  "language_info": {
   "codemirror_mode": {
    "name": "ipython",
    "version": 3
   },
   "file_extension": ".py",
   "mimetype": "text/x-python",
   "name": "python",
   "nbconvert_exporter": "python",
   "pygments_lexer": "ipython3",
   "version": "3.6.1"
  }
 },
 "nbformat": 4,
 "nbformat_minor": 2
}

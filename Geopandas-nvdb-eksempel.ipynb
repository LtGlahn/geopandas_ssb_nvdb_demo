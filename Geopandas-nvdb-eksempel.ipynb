{
 "cells": [
  {
   "cell_type": "markdown",
   "metadata": {},
   "source": [
    "# Bruk av geopandas med data fra NVDB og SSB\n",
    "\n",
    "Demo av hvordan geopandas kan brukes med data fra [Nasjonal vegdatabank](https://www.vegvesen.no/fag/teknologi/Nasjonal+vegdatabank) (NVDB) og [Statistisk Sentralbyrå](http://www.ssb.no/natur-og-miljo/geodata) (SSB). \n",
    "\n",
    "Vi ønsker å finne hvilke turistveger som går gjennom hvilke tettsteder - og hvilke trafikkulykker som er registrert der. \n",
    "\n",
    "Gangen er som følger: \n",
    "1. Last ned data over tettsteder fra [SSB](http://www.ssb.no/natur-og-miljo/geodata\n",
    "1. Last ned turistveger fra [NVDB api](https://www.vegvesen.no/nvdb/apidokumentasjon/)\n",
    "1. Finn snittet av turistveger og tettsteder (hvilke turistveger som går gjennom hvilke tettsteder)\n",
    "1. Finn trafikkulykkene på turistvegene som går gjennom tettstedene. \n",
    "    1. Finn BoundingBox for hvert av tettstedene som har en turistveg gjennom seg.  \n",
    "    1. Hent trafikkulykker innenfor BBox. \n",
    "    1. Finn trafikkulykkene som ligger på turistvegens senterlinje\n",
    "        1. Alternativt finn trafikkulykkene innenfor radius fra turistvegen. \n",
    "1. Lag fine plott og sånn\n"
   ]
  },
  {
   "cell_type": "markdown",
   "metadata": {},
   "source": [
    "# Kom i gang med Anaconda-distribusjonen \n",
    "\n",
    "## Linux \n",
    "\n",
    "\n",
    "Last ned siste [Anaconda versjon](https://www.anaconda.com/download/#linux), installer med ```bash Anaconda*.sh```- [Mer detaljert oppskrift](https://www.digitalocean.com/community/tutorials/how-to-install-the-anaconda-python-distribution-on-ubuntu-16-04). \n",
    "\n",
    "* Geopandas: ```conda install -c conda-forge geopandas``` [Dokumentasjon](http://geopandas.org/install.html#installing-geopandas)\n",
    "* **todo: Hent geojson-bibli\n"
   ]
  },
  {
   "cell_type": "markdown",
   "metadata": {},
   "source": [
    "# Last ned data fra SSB\n",
    "\n",
    "Dette steget kan også gjøres manuelt. Direkte lenke for nedlasting av 2016-datasett er http://www.ssb.no/natur-og-miljo/_attachment/286736?_ts=158d3354ee0 \n",
    "\n",
    "*NB! Det vil ikke overraske meg om lenkeråte gjør at du uansett må inn på SSB og finne nedlastingslenker* \n",
    "\n",
    "### Hent SSB-data manuelt \n",
    "\n",
    "1. Gå inn på http://www.ssb.no/natur-og-miljo/geodata#Nedlasting_av_datasett_med_dynamiske_avgrensinger . \n",
    "1. Klikk på *Nedlasting av kart over tettsteder*. \n",
    "1. Klikk på det året du vil laste ned for. \n",
    "    1. Nedlasting skal starte automagisk... hvis ikke kan du prøve en annen nettleser, evt kopiere lenken og bruke verktøy som curl eller wget. \n",
    "1. Pakk ut zip-arkivet og legg mappen ```Tettsted2016``` sammen med øvrige filer (rotnivå i repos'et). Dvs at stien til shapefilen skal være ```Tettsted2016/Tettsted2016.shp```\n",
    "\n",
    "\n",
    "\n",
    "\n",
    "\n"
   ]
  },
  {
   "cell_type": "code",
   "execution_count": 19,
   "metadata": {},
   "outputs": [
    {
     "name": "stdout",
     "output_type": "stream",
     "text": [
      "Nedlasting feiler: 503 Service Unavailable\n"
     ]
    }
   ],
   "source": [
    "## Last ned SSB-data\n",
    "# Se https://stackoverflow.com/a/14260592 , det om python 3+\n",
    "import requests\n",
    "import zipfile\n",
    "import io\n",
    "import os\n",
    "\n",
    "url = 'http://www.ssb.no/natur-og-miljo/_attachment/286736?_ts=158d3354ee0'\n",
    "\n",
    "# Laster kun en gang: \n",
    "if not os.path.exists('Tettsted2016/Tettsted2016.shp'):\n",
    "    r = requests.get(url)\n",
    "    if r.ok: \n",
    "        z = zipfile.ZipFile(io.BytesIO(r.content))\n",
    "        z.extractall()\n",
    "    else: \n",
    "        print( \"Nedlasting feiler:\", r.status_code, r.reason )"
   ]
  },
  {
   "cell_type": "markdown",
   "metadata": {},
   "source": [
    "# Importer de bibliotekene som trengs\n"
   ]
  },
  {
   "cell_type": "code",
   "execution_count": 21,
   "metadata": {},
   "outputs": [
    {
     "ename": "ModuleNotFoundError",
     "evalue": "No module named 'geojson'",
     "output_type": "error",
     "traceback": [
      "\u001b[0;31m---------------------------------------------------------------------------\u001b[0m",
      "\u001b[0;31mModuleNotFoundError\u001b[0m                       Traceback (most recent call last)",
      "\u001b[0;32m<ipython-input-21-9cd5c91fb51c>\u001b[0m in \u001b[0;36m<module>\u001b[0;34m()\u001b[0m\n\u001b[1;32m      2\u001b[0m \u001b[0;32mimport\u001b[0m \u001b[0mpandas\u001b[0m \u001b[0;32mas\u001b[0m \u001b[0mpd\u001b[0m\u001b[0;34m\u001b[0m\u001b[0m\n\u001b[1;32m      3\u001b[0m \u001b[0;32mimport\u001b[0m \u001b[0mnvdbapi\u001b[0m      \u001b[0;31m# Fra https://github.com/LtGlahn/nvdbapi-V2\u001b[0m\u001b[0;34m\u001b[0m\u001b[0m\n\u001b[0;32m----> 4\u001b[0;31m \u001b[0;32mimport\u001b[0m \u001b[0mnvdb2geojson\u001b[0m \u001b[0;31m# Fra https://github.com/LtGlahn/nvdbapi-V2\u001b[0m\u001b[0;34m\u001b[0m\u001b[0m\n\u001b[0m",
      "\u001b[0;32m~/jobb/geopandas_ssb_nvdb_demo/nvdb2geojson.py\u001b[0m in \u001b[0;36m<module>\u001b[0;34m()\u001b[0m\n\u001b[1;32m      8\u001b[0m \"\"\" \n\u001b[1;32m      9\u001b[0m \u001b[0;32mimport\u001b[0m \u001b[0mnvdbapi\u001b[0m\u001b[0;34m\u001b[0m\u001b[0m\n\u001b[0;32m---> 10\u001b[0;31m \u001b[0;32mimport\u001b[0m \u001b[0mgeojson\u001b[0m\u001b[0;34m\u001b[0m\u001b[0m\n\u001b[0m\u001b[1;32m     11\u001b[0m \u001b[0;32mimport\u001b[0m \u001b[0mjson\u001b[0m\u001b[0;34m\u001b[0m\u001b[0m\n\u001b[1;32m     12\u001b[0m \u001b[0;32mimport\u001b[0m \u001b[0mcopy\u001b[0m\u001b[0;34m\u001b[0m\u001b[0m\n",
      "\u001b[0;31mModuleNotFoundError\u001b[0m: No module named 'geojson'"
     ]
    }
   ],
   "source": [
    "import geopandas as gpd\n",
    "import pandas as pd\n",
    "import nvdbapi      # Fra https://github.com/LtGlahn/nvdbapi-V2\n",
    "import nvdb2geojson # Fra https://github.com/LtGlahn/nvdbapi-V2"
   ]
  },
  {
   "cell_type": "markdown",
   "metadata": {},
   "source": [
    "# Les turistveger fra NVDB"
   ]
  },
  {
   "cell_type": "code",
   "execution_count": null,
   "metadata": {
    "collapsed": true
   },
   "outputs": [],
   "source": [
    "turistveger = nvdbapi.nvdbFagdata(777)\n",
    "turistveger_geojson = nvdb2geojson"
   ]
  }
 ],
 "metadata": {
  "kernelspec": {
   "display_name": "Python 3",
   "language": "python",
   "name": "python3"
  },
  "language_info": {
   "codemirror_mode": {
    "name": "ipython",
    "version": 3
   },
   "file_extension": ".py",
   "mimetype": "text/x-python",
   "name": "python",
   "nbconvert_exporter": "python",
   "pygments_lexer": "ipython3",
   "version": "3.6.2"
  }
 },
 "nbformat": 4,
 "nbformat_minor": 2
}

{
 "cells": [
  {
   "cell_type": "markdown",
   "metadata": {},
   "source": [
    "# Bruk av geopandas med data fra NVDB og SSB\n",
    "\n",
    "Demo av hvordan geopandas kan brukes med data fra [Nasjonal vegdatabank](https://www.vegvesen.no/fag/teknologi/Nasjonal+vegdatabank) (NVDB) og [Statistisk Sentralbyrå](http://www.ssb.no/natur-og-miljo/geodata) (SSB). \n",
    "\n",
    "Vi ønsker å finne hvilke turistveger som går gjennom hvilke tettsteder - og hvilke trafikkulykker som er registrert der. \n",
    "\n",
    "Gangen er som følger: \n",
    "1. Last ned data over tettsteder fra [SSB](http://www.ssb.no/natur-og-miljo/geodata\n",
    "1. Last ned turistveger fra [NVDB api](https://www.vegvesen.no/nvdb/apidokumentasjon/)\n",
    "1. Finn snittet av turistveger og tettsteder (hvilke turistveger som går gjennom hvilke tettsteder)\n",
    "1. Finn trafikkulykkene på turistvegene som går gjennom tettstedene. \n",
    "    1. Finn BoundingBox for hvert av tettstedene som har en turistveg gjennom seg.  \n",
    "    1. Hent trafikkulykker innenfor BBox. \n",
    "    1. Finn trafikkulykkene som ligger på turistvegens senterlinje\n",
    "        1. Alternativt finn trafikkulykkene innenfor radius fra turistvegen. \n",
    "1. Lag fine plott og sånn\n"
   ]
  },
  {
   "cell_type": "markdown",
   "metadata": {},
   "source": [
    "# Last ned data fra SSB\n",
    "\n",
    "Dette steget er overflødig om du vil laste ned manuelt. Direkte lenke for nedlasting av 2016-datasett er http://www.ssb.no/natur-og-miljo/_attachment/286736?_ts=158d3354ee0 \n",
    "\n",
    "*NB! Det vil ikke overraske meg om lenkeråte gjør at du uansett må inn på SSB og finne nedlastingslenker* \n",
    "\n",
    "## Hent data manuelt \n",
    "\n",
    "1. Gå inn på http://www.ssb.no/natur-og-miljo/geodata#Nedlasting_av_datasett_med_dynamiske_avgrensinger . \n",
    "1. Klikk på *Nedlasting av kart over tettsteder*. \n",
    "1. Klikk på det året du vil laste ned for. \n",
    "    1. Nedlasting skal starte automagisk... hvis ikke må du tr\n",
    "1. Pakk ut filene på disk. \n",
    "1. Kopier data til *MAPPENAVN - IN PROGRESS* \n",
    "\n",
    "\n",
    "\n",
    "\n"
   ]
  },
  {
   "cell_type": "code",
   "execution_count": null,
   "metadata": {
    "collapsed": true
   },
   "outputs": [],
   "source": [
    "import requests\n",
    "import shutil \n",
    "\n",
    "url = 'http://www.ssb.no/natur-og-miljo/_attachment/286736?_ts=158d3354ee0'\n",
    "\n",
    "# Se https://stackoverflow.com/a/39217788 \n",
    "\n",
    "\n"
   ]
  }
 ],
 "metadata": {
  "kernelspec": {
   "display_name": "Python 3",
   "language": "python",
   "name": "python3"
  },
  "language_info": {
   "codemirror_mode": {
    "name": "ipython",
    "version": 3
   },
   "file_extension": ".py",
   "mimetype": "text/x-python",
   "name": "python",
   "nbconvert_exporter": "python",
   "pygments_lexer": "ipython3",
   "version": "3.6.1"
  }
 },
 "nbformat": 4,
 "nbformat_minor": 2
}
